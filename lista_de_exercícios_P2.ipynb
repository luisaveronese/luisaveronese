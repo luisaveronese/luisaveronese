{
  "nbformat": 4,
  "nbformat_minor": 0,
  "metadata": {
    "colab": {
      "name": "lista de exercícios P2",
      "provenance": [],
      "collapsed_sections": [],
      "authorship_tag": "ABX9TyPQNWg3/MJurDL4bXpFyJC/",
      "include_colab_link": true
    },
    "kernelspec": {
      "name": "python3",
      "display_name": "Python 3"
    },
    "language_info": {
      "name": "python"
    }
  },
  "cells": [
    {
      "cell_type": "markdown",
      "metadata": {
        "id": "view-in-github",
        "colab_type": "text"
      },
      "source": [
        "<a href=\"https://colab.research.google.com/github/luisaveronese/luisaveronese/blob/main/lista_de_exerc%C3%ADcios_P2.ipynb\" target=\"_parent\"><img src=\"https://colab.research.google.com/assets/colab-badge.svg\" alt=\"Open In Colab\"/></a>"
      ]
    },
    {
      "cell_type": "code",
      "execution_count": null,
      "metadata": {
        "id": "6Yy3IaTKhifx",
        "colab": {
          "base_uri": "https://localhost:8080/"
        },
        "outputId": "188a4211-4c82-43e8-bd82-a2da55786587"
      },
      "outputs": [
        {
          "output_type": "stream",
          "name": "stdout",
          "text": [
            "a lista é: [0, 1, 2, 3, 4, 5, 6, 7, 8, 9, 10, 11, 12, 13, 14, 15, 16, 17, 18, 19, 20]\n",
            "os números pares são: [0, 2, 4, 6, 8, 10, 12, 14, 16, 18, 20]\n",
            "os números ímpares são: [1, 3, 5, 7, 9, 11, 13, 15, 17, 19]\n"
          ]
        }
      ],
      "source": [
        "#exercício 1\n",
        "lista = []\n",
        "pares = []\n",
        "impares = []\n",
        "for i in range(0, 21):\n",
        "  lista.append(i)\n",
        "  if i % 2 != 0:\n",
        "    impares.append(i)\n",
        "  else:\n",
        "    pares.append(i)\n",
        "print(f\"a lista é: {lista}\")\n",
        "print(f\"os números pares são: {pares}\")\n",
        "print(f\"os números ímpares são: {impares}\")\n"
      ]
    },
    {
      "cell_type": "code",
      "source": [
        "#exercício 2\n",
        "count = 1\n",
        "media = []\n",
        "aprov = []\n",
        "aluno = []\n",
        "while count <= 4:\n",
        "  nome = input(f\"Insira o nome do aluno {count}: \")\n",
        "  nota = float(input(f\"Insira a nota do aluno {count}: \"))\n",
        "  media.append(nota)\n",
        "  if nota >= 7:\n",
        "    print(f\"Aluno aprovado.\")\n",
        "    aprov.append(nome)\n",
        "    aprov.append(nota)\n",
        "  elif nota >= 5:\n",
        "    print(f\"Aluno em exame.\")\n",
        "  elif nota < 5:\n",
        "    print(f\"Aluno reprovado\") \n",
        "  count += 1\n",
        "print(f\"A média dos alunos foi: {media}\")\n",
        "print(f\"Os alunos aprovados foram: {aprov}\")"
      ],
      "metadata": {
        "id": "AIVgukbGiQTR",
        "colab": {
          "base_uri": "https://localhost:8080/"
        },
        "outputId": "b6433054-f904-46e5-c4e6-6eea807b57a3"
      },
      "execution_count": null,
      "outputs": [
        {
          "output_type": "stream",
          "name": "stdout",
          "text": [
            "Insira o nome do aluno 1: Jorge\n",
            "Insira a nota do aluno 1: 8\n",
            "Aluno aprovado.\n",
            "Insira o nome do aluno 2: Maria\n",
            "Insira a nota do aluno 2: 9\n",
            "Aluno aprovado.\n",
            "Insira o nome do aluno 3: Lucas\n",
            "Insira a nota do aluno 3: 5\n",
            "Aluno em exame.\n",
            "Insira o nome do aluno 4: João\n",
            "Insira a nota do aluno 4: 4\n",
            "Aluno reprovado\n",
            "A média dos alunos foi: [8.0, 9.0, 5.0, 4.0]\n",
            "Os alunos aprovados foram: ['Jorge', 8.0, 'Maria', 9.0]\n"
          ]
        }
      ]
    },
    {
      "cell_type": "code",
      "source": [
        "#exercício 3\n",
        "lista= []\n",
        "for i in range(5):\n",
        "  lista.append(i)\n",
        "print(f\"{lista}\")\n",
        "print(f\"[1, 2, 3, 4, 5]\")\n"
      ],
      "metadata": {
        "id": "xlIWp1JvmX8C",
        "colab": {
          "base_uri": "https://localhost:8080/"
        },
        "outputId": "1213b9ce-4403-49f4-8b57-17e4ed79d768"
      },
      "execution_count": null,
      "outputs": [
        {
          "output_type": "stream",
          "name": "stdout",
          "text": [
            "[0, 1, 2, 3, 4]\n",
            "[1, 2, 3, 4, 5] \n"
          ]
        }
      ]
    },
    {
      "cell_type": "code",
      "source": [
        "#exercício 4\n",
        "count = 1\n",
        "ordem = []\n",
        "\n",
        "while count <= 10:\n",
        "  num = int(input(f\"insira o termo {count}: \"))\n",
        "  ordem.append(num)\n",
        "  count += 1\n",
        "reversa = [num for num in reversed(ordem)]\n",
        "\n",
        "print(f\"essa foi a lista criada {ordem}\")  \n",
        "print(f\"essa é a ordem reversa da lista {reversa}\")"
      ],
      "metadata": {
        "colab": {
          "base_uri": "https://localhost:8080/"
        },
        "id": "xKrqhdi6RIac",
        "outputId": "3d5dbd05-44e6-4d71-de18-c37f7b5ba301"
      },
      "execution_count": null,
      "outputs": [
        {
          "output_type": "stream",
          "name": "stdout",
          "text": [
            "insira o termo 1: 2\n",
            "insira o termo 2: 4\n",
            "insira o termo 3: 6\n",
            "insira o termo 4: 8\n",
            "insira o termo 5: 10\n",
            "insira o termo 6: 12\n",
            "insira o termo 7: 14\n",
            "insira o termo 8: 16\n",
            "insira o termo 9: 18\n",
            "insira o termo 10: 20\n",
            "essa foi a lista criada [2, 4, 6, 8, 10, 12, 14, 16, 18, 20]\n",
            "essa é a ordem reversa da lista [20, 18, 16, 14, 12, 10, 8, 6, 4, 2]\n"
          ]
        }
      ]
    },
    {
      "cell_type": "code",
      "source": [
        "#exercício 5\n",
        "from random import randint\n",
        "lista1 = []\n",
        "lista2 = []\n",
        "for i in range(10):\n",
        "  lista1.append(randint(0, 100))\n",
        "  lista2.append(randint(0, 100))\n",
        "\n",
        "print(f\"a primeira lista é: {lista1}\")\n",
        "print(f\"a segunda lista é {lista2}\")\n",
        "res = lista1 + lista2 \n",
        "res[::2] = lista1 \n",
        "res[1::2] = lista2 \n",
        "print (f\"a lista intercalada é: {res}\") "
      ],
      "metadata": {
        "id": "7UM-C3nnaxdm",
        "colab": {
          "base_uri": "https://localhost:8080/"
        },
        "outputId": "b9dcc72d-35a1-46a3-e917-f90068c95655"
      },
      "execution_count": null,
      "outputs": [
        {
          "output_type": "stream",
          "name": "stdout",
          "text": [
            "a primeira lista é: [0, 13, 72, 100, 51, 33, 91, 17, 44, 6]\n",
            "a segunda lista é [20, 36, 56, 41, 95, 34, 30, 78, 77, 56]\n",
            "a lista intercalada é: [0, 20, 13, 36, 72, 56, 100, 41, 51, 95, 33, 34, 91, 30, 17, 78, 44, 77, 6, 56]\n"
          ]
        }
      ]
    },
    {
      "cell_type": "code",
      "source": [
        "#exercício 6\n",
        "meses = [\"Janeiro\", \"Fevereiro\", \"Março\", \"Abril\", \"Maio\", \"Junho\", \"Julho\", \"Agosto\", \"Setembro\", \"Outubro\", \"Novembro\", \"Dezembro\"]\n",
        "temp = []\n",
        "\n",
        "for m in range(0, len(meses)):\n",
        "    temp.append(float(input(f\"Digite a temperatura do mês de {meses[m]}: \")))\n",
        "\n",
        "mediaAnual = sum(temp)/len(temp)\n",
        "print(f\"A média anual de temperaturas foi {mediaAnual:.0f}°C \")\n",
        "for m in range(0, len(temp)):\n",
        "    if temp[m] > mediaAnual:\n",
        "        print(f\"{m+1} - {meses[m]}\")"
      ],
      "metadata": {
        "id": "NZI6H7_Zaxt8"
      },
      "execution_count": null,
      "outputs": []
    },
    {
      "cell_type": "code",
      "source": [
        "#exercício 7\n",
        "colocado = 'Primeiro','Segundo','Terceiro','Quarto','Quinto'\n",
        "melhor_salto = pior_salto = contagem = media_saltos = total_saltos = media= 0\n",
        "atleta = ' '\n",
        "while atleta != '':\n",
        "   atleta = input(\"Atleta: \")\n",
        "   if atleta == '':\n",
        "       break\n",
        "   for c in range(0, 5):\n",
        "       salto = float(input(f\"{colocado[c]} salto: \"))\n",
        "       contagem += 1\n",
        "       media_saltos += 1\n",
        "       if salto > melhor_salto:\n",
        "           melhor_salto = salto\n",
        "       if salto < pior_salto or contagem == 1:\n",
        "           pior_salto = salto\n",
        "       total_saltos += salto\n",
        "       media = total_saltos / media_saltos\n",
        "print(\"=\"*30)\n",
        "print(f\"Melhor salto: {melhor_salto}m\")\n",
        "print(f\"Pior salto: {pior_salto}m\")\n",
        "print(f\"Media dos demais saltos: {media:.2f}m\")\n",
        "print(\"\\n\")\n",
        "print(f\"Resultado final: {atleta}: {media:.2f}\")"
      ],
      "metadata": {
        "id": "XlBBjxT7uBFc"
      },
      "execution_count": null,
      "outputs": []
    },
    {
      "cell_type": "code",
      "source": [
        "#exercício 8\n",
        "\n",
        "def clear():\n",
        "    print(\"\\n\" * 40)\n",
        "while True:\n",
        "    print(\"---------- Mercadinho BigBom -----------\")\n",
        "    n = 1\n",
        "    total = 0\n",
        "    while True:\n",
        "        preco = float(input(\"Produto {}: R$ \".format(n)))\n",
        "        n += 1\n",
        "        total += preco\n",
        "        if preco == 0:\n",
        "            break\n",
        "    print(\"------------------------------------\")\n",
        "    print(\"Total: R$ {:.2f} \".format(total))\n",
        "    dinheiro = float(input(\"Dinheiro: R$ \"))\n",
        "    print(\"Troco: R$ {:.2f}\".format(dinheiro - total))\n",
        "    print(\"------------------------------------\")\n",
        "    reset = input(\"pressione 0 para reset, 1 para encerrar: \")\n",
        "    if reset == \"0\":\n",
        "        clear()\n",
        "        continue\n",
        "    else:\n",
        "        clear()\n",
        "        print(\"Encerrando caixa...\")\n",
        "        break"
      ],
      "metadata": {
        "id": "_BhWflQ7wLqV"
      },
      "execution_count": null,
      "outputs": []
    }
  ]
}